{
 "cells": [
  {
   "cell_type": "markdown",
   "id": "9b08d74c",
   "metadata": {},
   "source": [
    "### Chatpter 1\n",
    "\n",
    "- Instalar conda: `https://www.anaconda.com/download`\n",
    "- Criar ambiente específico para cada projeto: `conda create --name env python=x.x`\n",
    "- Para ativar o ambiente específico: `conda activate env`\n",
    "- Para exportar as dependências/requisitos de pacotes: `conda env export > enviroment.yml`\n",
    "- Para instalar esses requisitos em um novo ambiente: `conda create -f enviroment.yml`\n",
    "- Caso alguma biblioteca não esteja disponível no repositório `Anaconda`, é possível instalar via `pip` dentro do ambiente (env). "
   ]
  }
 ],
 "metadata": {
  "language_info": {
   "name": "python"
  }
 },
 "nbformat": 4,
 "nbformat_minor": 5
}
