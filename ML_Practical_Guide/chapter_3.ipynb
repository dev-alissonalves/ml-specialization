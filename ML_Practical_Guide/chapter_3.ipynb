{
 "cells": [
  {
   "cell_type": "markdown",
   "id": "af46ed0f",
   "metadata": {},
   "source": [
    "### Descrição da classificação: Conjunto de dados do `Titanic`"
   ]
  }
 ],
 "metadata": {
  "language_info": {
   "name": "python"
  }
 },
 "nbformat": 4,
 "nbformat_minor": 5
}
